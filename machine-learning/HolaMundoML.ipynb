{
 "cells": [
  {
   "cell_type": "code",
   "execution_count": 6,
   "id": "9ca56bbf",
   "metadata": {},
   "outputs": [],
   "source": [
    "import pandas as p\n",
    "data_juegos = p.read_csv('juegos-ml.csv') # datos ya limpios y filtrados solo con lo que necesitamos\n",
    "X = data_juegos.drop(columns=['juegos']) # datos de entrada para el modelo\n",
    "y = data_juegos['juegos'] # datos de salida para el modelo\n"
   ]
  },
  {
   "cell_type": "code",
   "execution_count": 13,
   "id": "9d8080fb",
   "metadata": {},
   "outputs": [
    {
     "data": {
      "text/plain": [
       "array(['fps'], dtype=object)"
      ]
     },
     "execution_count": 13,
     "metadata": {},
     "output_type": "execute_result"
    }
   ],
   "source": [
    "from sklearn.tree import DecisionTreeClassifier\n",
    "modelo = DecisionTreeClassifier()\n",
    "modelo.fit(X.values, y)\n",
    "predicciones = modelo.predict([[14,0]]) # datos que no estan en el dataframe sino que le pasamos e intentara predecir el y\n",
    "predicciones"
   ]
  }
 ],
 "metadata": {
  "kernelspec": {
   "display_name": "Python 3 (ipykernel)",
   "language": "python",
   "name": "python3"
  },
  "language_info": {
   "codemirror_mode": {
    "name": "ipython",
    "version": 3
   },
   "file_extension": ".py",
   "mimetype": "text/x-python",
   "name": "python",
   "nbconvert_exporter": "python",
   "pygments_lexer": "ipython3",
   "version": "3.11.3"
  }
 },
 "nbformat": 4,
 "nbformat_minor": 5
}
